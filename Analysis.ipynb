{
 "cells": [
  {
   "cell_type": "code",
   "execution_count": 1,
   "id": "fae757c0-1e44-41fe-8a0e-9ecb2dea680b",
   "metadata": {},
   "outputs": [],
   "source": [
    "# Initial imports\n",
    "import os\n",
    "import requests\n",
    "import pandas as pd\n",
    "from dotenv import load_dotenv\n",
    "import alpaca_trade_api as tradeapi\n",
    "\n",
    "%matplotlib inline"
   ]
  },
  {
   "cell_type": "code",
   "execution_count": 2,
   "id": "34fc88bf-3b15-4a3d-843f-31e4466ccd59",
   "metadata": {},
   "outputs": [
    {
     "data": {
      "text/plain": [
       "True"
      ]
     },
     "execution_count": 2,
     "metadata": {},
     "output_type": "execute_result"
    }
   ],
   "source": [
    "#Data CLeaning - on a listing of portfolios\n",
    "load_dotenv()"
   ]
  },
  {
   "cell_type": "code",
   "execution_count": null,
   "id": "d5d2a303-4e1e-4398-8fc4-188474eb52a3",
   "metadata": {},
   "outputs": [],
   "source": [
    "# Set Alpaca API key and secret\n",
    "alpaca_api_key = os.getenv(\"ALPACA_API_KEY\")\n",
    "alpaca_secret_key = os.getenv(\"ALPACA_SECRET_KEY\")\n",
    "# Create the Alpaca API object\n",
    "alpaca = tradeapi.REST(\n",
    "    alpaca_api_key,\n",
    "    alpaca_secret_key,\n",
    "    api_version=\"v2\")\n",
    "\n",
    "\n",
    "# Set start and end dates of five years back from today.\n",
    "# Sample results may vary from the solution based on the time frame chosen\n",
    "start_date = pd.Timestamp('2017-10-31', tz='America/New_York').isoformat()\n",
    "end_date = pd.Timestamp('2022-10-31', tz='America/New_York').isoformat()\n",
    "\n",
    "# Get 5 years' worth of historical data for \"Heavy Hitters\" AAPL, MSFT, GOOG, GOOGL, AMZN, META\n",
    "# Set timeframe to \"1Day\"\n",
    "timeframe = \"1Day\"\n",
    "# Set the ticker information\n",
    "tickers = [\"AAPL\",\"MSFT\",\"GOOG\",\"GOOGL\",\"AMZN\",\"META\"]\n",
    "hh_5_year = alpaca.get_bars(\n",
    "    tickers,\n",
    "    timeframe,\n",
    "    start=start_date,\n",
    "    end=end_date\n",
    ").df\n",
    "\n",
    "hh_5_year\n",
    "\n",
    "# Create and empty DataFrame for closing prices\n",
    "hh_closing_prices = pd.DataFrame()\n",
    "# Fetch the closing prices of FB and TWTR\n",
    "hh_closing_prices[\"AAPL\"] = hh_5_year[\"AAPL\"][\"close\"]\n",
    "hh_closing_prices[\"MSFT\"] = hh_5_year[\"MSFT\"][\"close\"]\n",
    "hh_closing_prices[\"GOOG\"] = hh_5_year[\"GOOG\"][\"close\"]\n",
    "hh_closing_prices[\"GOOGL\"] = hh_5_year[\"GOOGL\"][\"close\"]\n",
    "hh_closing_prices[\"AMZN\"] = hh_5_year[\"AMZN\"][\"close\"]\n",
    "hh_closing_prices[\"META\"] = hh_5_year[\"META\"][\"close\"]\n",
    "# Drop the time component of the date\n",
    "hh_closing_prices.index = hh_closing_prices.index.date\n",
    "# Display sample data\n",
    "hh_closing_prices.head(10)\n",
    "\n",
    "# Reorganize the DataFrame\n",
    "# Separate ticker data\n",
    "AAPL = hh_5_year[hh_5_year['symbol']=='AAPL'].drop('symbol', axis=1)\n",
    "MSFT = hh_5_year[hh_5_year['symbol']=='MSFT'].drop('symbol',axis=1)\n",
    "GOOG = hh_5_year[hh_5_year['symbol']=='GOOG'].drop('symbol',axis=1)\n",
    "GOOGL =hh_5_year[hh_5_year['symbol']=='GOOGL'].drop('symbol',axis=1)\n",
    "AMZN = hh_5_year[hh_5_year['symbol']=='AMZN'].drop('symbol', axis=1)\n",
    "META = hh_5_year[hh_5_year['symbol']=='META'].drop('symbol', axis=1)\n",
    "# Concatenate the ticker DataFrames\n",
    "hh_5_year = pd.concat([AAPL, MSFT,GOOG,GOOGL,AMZN,META],axis=1, keys=['AAPL','MSFT','GOOG','GOOGL','AMZN','META'])\n",
    "# Display sample data\n",
    "hh_5_year.head(10)"
   ]
  }
 ],
 "metadata": {
  "kernelspec": {
   "display_name": "Python 3 (ipykernel)",
   "language": "python",
   "name": "python3"
  },
  "language_info": {
   "codemirror_mode": {
    "name": "ipython",
    "version": 3
   },
   "file_extension": ".py",
   "mimetype": "text/x-python",
   "name": "python",
   "nbconvert_exporter": "python",
   "pygments_lexer": "ipython3",
   "version": "3.7.12"
  }
 },
 "nbformat": 4,
 "nbformat_minor": 5
}
